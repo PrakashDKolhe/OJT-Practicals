{
 "cells": [
  {
   "cell_type": "code",
   "execution_count": 12,
   "id": "254f943e",
   "metadata": {},
   "outputs": [
    {
     "name": "stdout",
     "output_type": "stream",
     "text": [
      "Matrix:P\n",
      "[[2 8 1 9 3]\n",
      " [5 1 4 5 1]\n",
      " [9 8 3 5 1]\n",
      " [0 3 5 8 0]\n",
      " [1 1 1 9 3]]\n"
     ]
    }
   ],
   "source": [
    "import numpy as np\n",
    "np.random.seed(62)\n",
    "P=np.random.randint(0, 10, size=(5, 5))\n",
    "print(\"Matrix:P\")\n",
    "print(P)"
   ]
  },
  {
   "cell_type": "code",
   "execution_count": 15,
   "id": "35ec88b0",
   "metadata": {},
   "outputs": [
    {
     "name": "stdout",
     "output_type": "stream",
     "text": [
      "\n",
      "Row Echelon Form of Matrix P:\n",
      "[[1 0 0 0 0]\n",
      " [0 1 0 0 0]\n",
      " [0 0 1 0 0]\n",
      " [0 0 0 1 0]\n",
      " [0 0 0 0 1]]\n"
     ]
    }
   ],
   "source": [
    "def row_echelon_form(matrix):\n",
    "    m=len(matrix)\n",
    "    n=len(matrix[0])\n",
    "    lead=0\n",
    "    for i in range(m):\n",
    "        if lead>=n:\n",
    "            break\n",
    "        r=i\n",
    "        while matrix[r,lead]==0:\n",
    "            r+=1\n",
    "            if r==m:\n",
    "                r=i\n",
    "                lead+=1\n",
    "                if n==lead:\n",
    "                    break\n",
    "        matrix[[r,i]]=matrix[[i,r]]\n",
    "        if matrix[i,lead]!=0:\n",
    "            matrix[i]=matrix[i]/matrix[i,lead]\n",
    "        for r in range(m):\n",
    "            if r!=i:\n",
    "                matrix[r] = matrix[r] - matrix[r, lead] * matrix[i]\n",
    "        lead+=1\n",
    "    return matrix\n",
    "row_echelon_P=row_echelon_form(P)\n",
    "print(\"\\nRow Echelon Form of Matrix P:\")\n",
    "print(row_echelon_P)\n"
   ]
  },
  {
   "cell_type": "code",
   "execution_count": null,
   "id": "554901b5",
   "metadata": {},
   "outputs": [],
   "source": []
  }
 ],
 "metadata": {
  "kernelspec": {
   "display_name": "Python 3 (ipykernel)",
   "language": "python",
   "name": "python3"
  },
  "language_info": {
   "codemirror_mode": {
    "name": "ipython",
    "version": 3
   },
   "file_extension": ".py",
   "mimetype": "text/x-python",
   "name": "python",
   "nbconvert_exporter": "python",
   "pygments_lexer": "ipython3",
   "version": "3.11.4"
  }
 },
 "nbformat": 4,
 "nbformat_minor": 5
}
