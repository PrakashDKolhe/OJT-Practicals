{
 "cells": [
  {
   "cell_type": "code",
   "execution_count": 1,
   "id": "ffebab55",
   "metadata": {},
   "outputs": [
    {
     "name": "stdout",
     "output_type": "stream",
     "text": [
      "Matrix: A\n",
      "[[9 8 4 0 0]\n",
      " [8 3 2 1 8]\n",
      " [9 6 0 4 6]\n",
      " [4 4 7 8 9]\n",
      " [5 6 5 2 6]]\n",
      "Matrix U:\n",
      "[[-0.39398584 -0.7021273  -0.48356478 -0.02402772 -0.34260791]\n",
      " [-0.42889724 -0.00956637  0.58147912  0.59627189 -0.34971062]\n",
      " [-0.47288003 -0.18456267  0.48676017 -0.65309483  0.28080738]\n",
      " [-0.51046394  0.68636756 -0.33877745 -0.21711529 -0.32621607]\n",
      " [-0.42027771  0.04197538 -0.27629969  0.41256588  0.75832222]]\n",
      "Matrix Sigma:\n",
      "[[25.96092424  0.          0.          0.          0.        ]\n",
      " [ 0.          9.78394034  0.          0.          0.        ]\n",
      " [ 0.          0.          6.15721003  0.          0.        ]\n",
      " [ 0.          0.          0.          3.69776946  0.        ]\n",
      " [ 0.          0.          0.          0.          1.64929967]]\n",
      "Matrix V^T:\n",
      "[[-0.59228304 -0.45604619 -0.31232994 -0.27906111 -0.5155556 ]\n",
      " [-0.52140481 -0.38387101  0.22350993  0.49336709  0.53610847]\n",
      " [ 0.3157247  -0.35997273 -0.73478758 -0.11925842  0.4654054 ]\n",
      " [-0.03503723 -0.19337089  0.44336329 -0.79180112  0.37129512]\n",
      " [-0.52576433  0.69115284 -0.34060171 -0.19375815  0.30385501]]\n",
      "Is A equal to the product of U, Sigma, and V^T?\n",
      "True\n",
      "Rank 2 approximation of A:\n",
      "[[ 9.63983879  7.30157779  1.6591671  -0.53491749  1.59038911]\n",
      " [ 6.64361796  5.11380674  3.45673941  3.06104752  5.6903112 ]\n",
      " [ 8.2126318   6.29178178  3.43068503  2.53496882  5.3610901 ]\n",
      " [ 4.34757236  3.46573757  5.63998656  7.01129725 10.43237421]\n",
      " [ 6.2481476   4.81817794  3.49956098  3.24739762  5.84529442]]\n",
      "\n",
      "Rank 3 approximation of A:\n",
      "[[ 8.69979695  8.37336417  3.8469309  -0.17983629  0.20468645]\n",
      " [ 7.77400364  3.8250003   0.82598749  2.63406791  7.35659707]\n",
      " [ 9.15888544  5.21291302  1.22846448  2.17754124  6.75594948]\n",
      " [ 3.68899467  4.2166133   7.17269752  7.26006124  9.46157396]\n",
      " [ 5.71102563  5.43057623  4.74960748  3.45028424  5.05353036]]\n"
     ]
    }
   ],
   "source": [
    "import numpy as np\n",
    "np.random.seed(21)\n",
    "\n",
    "A=np.random.randint(0,10,size=(5, 5))\n",
    "print(\"Matrix: A\")\n",
    "print(A)\n",
    "U,Sigma,VT=np.linalg.svd(A)\n",
    "print(\"Matrix U:\")\n",
    "print(U)\n",
    "print(\"Matrix Sigma:\")\n",
    "print(np.diag(Sigma))\n",
    "print(\"Matrix V^T:\")\n",
    "print(VT)\n",
    "recon_A=U@np.diag(Sigma)@ VT\n",
    "print(\"Is A equal to the product of U, Sigma, and V^T?\")\n",
    "print(np.allclose(A, recon_A))\n",
    "rank_2 = U[:, :2] @ np.diag(Sigma[:2]) @ VT[:2, :]\n",
    "print(\"Rank 2 approximation of A:\")\n",
    "print(rank_2)\n",
    "print()\n",
    "rank_3 = U[:, :3] @ np.diag(Sigma[:3]) @ VT[:3, :]\n",
    "print(\"Rank 3 approximation of A:\")\n",
    "print(rank_3)"
   ]
  },
  {
   "cell_type": "code",
   "execution_count": null,
   "id": "d2b00ca2",
   "metadata": {},
   "outputs": [],
   "source": []
  }
 ],
 "metadata": {
  "kernelspec": {
   "display_name": "Python 3 (ipykernel)",
   "language": "python",
   "name": "python3"
  },
  "language_info": {
   "codemirror_mode": {
    "name": "ipython",
    "version": 3
   },
   "file_extension": ".py",
   "mimetype": "text/x-python",
   "name": "python",
   "nbconvert_exporter": "python",
   "pygments_lexer": "ipython3",
   "version": "3.11.4"
  }
 },
 "nbformat": 4,
 "nbformat_minor": 5
}
